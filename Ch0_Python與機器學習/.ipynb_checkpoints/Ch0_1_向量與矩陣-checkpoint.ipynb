{
 "cells": [
  {
   "cell_type": "code",
   "execution_count": 1,
   "id": "85aba212",
   "metadata": {},
   "outputs": [
    {
     "name": "stdout",
     "output_type": "stream",
     "text": [
      "[5, 7, 9]\n",
      "32\n"
     ]
    }
   ],
   "source": [
    "# 向量用串列來實作\n",
    "\n",
    "a = [1, 2, 3]\n",
    "b = [4, 5, 6]\n",
    "\n",
    "def addition_of_vectors(a, b):\n",
    "    return [a_i+b_i for a_i, b_i in zip(a, b)]\n",
    "\n",
    "def Vector_dot_product(a, b):\n",
    "    return sum(a_i*b_i for a_i, b_i in zip(a,b))\n",
    "\n",
    "print(addition_of_vectors(a, b))\n",
    "print(Vector_dot_product(a, b))"
   ]
  },
  {
   "cell_type": "code",
   "execution_count": 2,
   "id": "126e5815",
   "metadata": {},
   "outputs": [
    {
     "name": "stdout",
     "output_type": "stream",
     "text": [
      "向量相加:  [5 7 9]\n",
      "純量、向量相乘:  [3 6 9]\n",
      "向量相乘:  [ 4 10 18]\n",
      "向量內積:  32\n",
      "向量長度:  3.7416573867739413\n"
     ]
    }
   ],
   "source": [
    "# 使用numpy的陣列來實作\n",
    "\n",
    "import numpy as np\n",
    "\n",
    "a = np.array([1, 2, 3])\n",
    "b = np.array([4, 5, 6])\n",
    "\n",
    "print('向量相加: ', a + b)\n",
    "print('純量、向量相乘: ', 3 * a)\n",
    "print('向量相乘: ', a * b)\n",
    "print('向量內積: ', np.dot(a ,b))\n",
    "print('向量長度: ', np.linalg.norm(a))"
   ]
  },
  {
   "cell_type": "markdown",
   "id": "c15542ca",
   "metadata": {},
   "source": [
    "np.linalg.norm(x, ord=None, axis=None, keepdims=False)\n",
    "linalg = linear(線性) + algebra(代數), norm則表示「範數」\n",
    "x: 表示矩陣\n",
    "ord: 表示範數類型\n",
    "\n",
    "-------------------------------------------------------------------------------\n",
    "\n",
    "Numpy提供的多維度陣列ndarry，有三個主要屬性: 維度(ndim)、形狀(shape)、數值型態(dtype) (預設的整數型態是int32，浮點數為float64)\n"
   ]
  },
  {
   "cell_type": "code",
   "execution_count": 2,
   "id": "1c8cb345",
   "metadata": {},
   "outputs": [
    {
     "name": "stdout",
     "output_type": "stream",
     "text": [
      "1\n",
      "(6,)\n",
      "int32\n"
     ]
    }
   ],
   "source": [
    "import numpy as np\n",
    "arr =  np.array([1, 2, 3, 4, 5, 6])\n",
    "print(arr.ndim)\n",
    "print(arr.shape)\n",
    "print(arr.dtype)"
   ]
  },
  {
   "cell_type": "code",
   "execution_count": 3,
   "id": "a8c65a41",
   "metadata": {},
   "outputs": [
    {
     "name": "stdout",
     "output_type": "stream",
     "text": [
      "[[1 2 3]\n",
      " [4 5 6]]\n",
      "[[1 2]\n",
      " [3 4]\n",
      " [5 6]]\n"
     ]
    }
   ],
   "source": [
    "# 兩種改變陣列的形狀與維度的方法\n",
    "arr.shape = 2,3\n",
    "print(arr)\n",
    "arr1 = arr.reshape(3,2)\n",
    "print(arr1)"
   ]
  },
  {
   "cell_type": "markdown",
   "id": "5789b94b",
   "metadata": {},
   "source": [
    "numpy有矩陣的資料結構，但官網「Numpy for Matlab users」建議採用ndarray，原因有:\n",
    "numpy的標準資料結構，且許多numpy函式回傳的是ndarray而非matrix能進行元素的運算，與線性代數運算時使用的運算符號有明顯區隔。"
   ]
  },
  {
   "cell_type": "code",
   "execution_count": 3,
   "id": "63fbdfdd",
   "metadata": {},
   "outputs": [
    {
     "name": "stdout",
     "output_type": "stream",
     "text": [
      "[[1 2 3]\n",
      " [4 5 6]]\n"
     ]
    }
   ],
   "source": [
    "import numpy as np\n",
    "matrix = np.mat([[1, 2, 3], [4, 5, 6]])\n",
    "print(matrix)"
   ]
  },
  {
   "cell_type": "code",
   "execution_count": 4,
   "id": "d6cdc39c",
   "metadata": {},
   "outputs": [
    {
     "name": "stdout",
     "output_type": "stream",
     "text": [
      "[[ 4  2  5]\n",
      " [10  5 11]]\n",
      "[[1 4]\n",
      " [2 5]\n",
      " [3 6]]\n",
      "[[ 1.  0.  0.]\n",
      " [ 1.  1. -1.]\n",
      " [-1.  0.  1.]]\n"
     ]
    }
   ],
   "source": [
    "# 矩陣相乘\n",
    "A = np.array([[1, 2, 3],[4, 5, 6]])\n",
    "B = np.array([[1, 0, 0], [0, 1, 1], [1, 0, 1]])\n",
    "print(np.dot(A, B))     #矩陣相乘\n",
    "print(A.transpose())    #矩陣轉置，也可以用A.T\n",
    "print(np.linalg.inv(B)) #反矩陣"
   ]
  },
  {
   "cell_type": "code",
   "execution_count": 11,
   "id": "c5b5928c",
   "metadata": {},
   "outputs": [
    {
     "name": "stdout",
     "output_type": "stream",
     "text": [
      "不可逆矩陣\n"
     ]
    }
   ],
   "source": [
    "#注意1 : 若矩陣為不可逆(singular)將沒有反矩陣，建議改用\n",
    "B = np.array([[0, 1, 1], [1, 0, 1]])\n",
    "try:\n",
    "    inv = np.linalg.inv(B)\n",
    "    print(inv)\n",
    "except np.linalg.LinAlgError:\n",
    "    print(\"不可逆矩陣\")\n",
    "    \n",
    "# 只有方陣才有可逆矩陣(可返矩陣的矩陣就是可逆矩陣)"
   ]
  },
  {
   "cell_type": "code",
   "execution_count": 13,
   "id": "071ae1b9",
   "metadata": {},
   "outputs": [
    {
     "name": "stdout",
     "output_type": "stream",
     "text": [
      "[1 2 3]\n",
      "[[1]\n",
      " [2]\n",
      " [3]]\n"
     ]
    }
   ],
   "source": [
    "# 注意2: 轉置對一維陣列沒用\n",
    "arr = np.array([1, 2, 3]) #一維陣列\n",
    "print(arr.transpose())\n",
    "arr = np.array([[1, 2, 3]]) #二維陣列\n",
    "print(arr.transpose())"
   ]
  },
  {
   "cell_type": "code",
   "execution_count": 15,
   "id": "00bb8be9",
   "metadata": {},
   "outputs": [
    {
     "name": "stdout",
     "output_type": "stream",
     "text": [
      "[1 2 3 4 5 6]\n"
     ]
    },
    {
     "data": {
      "text/plain": [
       "array([1, 2, 3, 4, 5, 6])"
      ]
     },
     "execution_count": 15,
     "metadata": {},
     "output_type": "execute_result"
    }
   ],
   "source": [
    "# 攤平矩陣\n",
    "a = np.array([[1, 2, 3],[4, 5, 6]])\n",
    "print(a.flatten())\n",
    "a.flatten()"
   ]
  },
  {
   "cell_type": "code",
   "execution_count": 27,
   "id": "7bfd295c",
   "metadata": {},
   "outputs": [
    {
     "data": {
      "text/plain": [
       "array([[1],\n",
       "       [2],\n",
       "       [3],\n",
       "       [4],\n",
       "       [5],\n",
       "       [6]])"
      ]
     },
     "execution_count": 27,
     "metadata": {},
     "output_type": "execute_result"
    }
   ],
   "source": [
    "# 得到二維陣列 1X6 (常用), -1 代表自動使用所需的最大值\n",
    "A.reshape(6, -1)\n"
   ]
  },
  {
   "cell_type": "code",
   "execution_count": 28,
   "id": "f7054862",
   "metadata": {},
   "outputs": [
    {
     "name": "stdout",
     "output_type": "stream",
     "text": [
      "1\n",
      "6\n",
      "3.5\n",
      "2.9166666666666665\n",
      "1.707825127659933\n"
     ]
    }
   ],
   "source": [
    "# 找最大最小直、平均值、變異數、標準差\n",
    "print(np.min(A))\n",
    "print(np.max(A))\n",
    "print(np.mean(A))\n",
    "print(np.var(A))\n",
    "print(np.std(A))"
   ]
  },
  {
   "cell_type": "code",
   "execution_count": null,
   "id": "52cb044f",
   "metadata": {},
   "outputs": [],
   "source": []
  }
 ],
 "metadata": {
  "kernelspec": {
   "display_name": "Python 3 (ipykernel)",
   "language": "python",
   "name": "python3"
  },
  "language_info": {
   "codemirror_mode": {
    "name": "ipython",
    "version": 3
   },
   "file_extension": ".py",
   "mimetype": "text/x-python",
   "name": "python",
   "nbconvert_exporter": "python",
   "pygments_lexer": "ipython3",
   "version": "3.9.7"
  }
 },
 "nbformat": 4,
 "nbformat_minor": 5
}
