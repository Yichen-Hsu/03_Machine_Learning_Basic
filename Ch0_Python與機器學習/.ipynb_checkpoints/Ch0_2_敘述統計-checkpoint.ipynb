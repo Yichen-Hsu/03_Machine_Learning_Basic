{
 "cells": [
  {
   "cell_type": "markdown",
   "id": "0418f71d",
   "metadata": {},
   "source": [
    "機器學習是從過去的數據中找到潛在的模式或傾向，並對未來進行預測，在這過程中不可避免的要面對不確定性問題，因此需要應用機率與統計的方法來協助。"
   ]
  },
  {
   "cell_type": "code",
   "execution_count": 15,
   "id": "df6dafaf",
   "metadata": {},
   "outputs": [
    {
     "data": {
      "text/html": [
       "<div>\n",
       "<style scoped>\n",
       "    .dataframe tbody tr th:only-of-type {\n",
       "        vertical-align: middle;\n",
       "    }\n",
       "\n",
       "    .dataframe tbody tr th {\n",
       "        vertical-align: top;\n",
       "    }\n",
       "\n",
       "    .dataframe thead th {\n",
       "        text-align: right;\n",
       "    }\n",
       "</style>\n",
       "<table border=\"1\" class=\"dataframe\">\n",
       "  <thead>\n",
       "    <tr style=\"text-align: right;\">\n",
       "      <th></th>\n",
       "      <th>Number</th>\n",
       "      <th>Name</th>\n",
       "      <th>Type1</th>\n",
       "      <th>Type2</th>\n",
       "      <th>HP</th>\n",
       "      <th>Attack</th>\n",
       "      <th>Defense</th>\n",
       "      <th>SpecialAtk</th>\n",
       "      <th>SpecialDef</th>\n",
       "      <th>Speed</th>\n",
       "      <th>Generation</th>\n",
       "      <th>Legendary</th>\n",
       "    </tr>\n",
       "  </thead>\n",
       "  <tbody>\n",
       "    <tr>\n",
       "      <th>0</th>\n",
       "      <td>1</td>\n",
       "      <td>妙蛙種子</td>\n",
       "      <td>Grass</td>\n",
       "      <td>Poison</td>\n",
       "      <td>45</td>\n",
       "      <td>49</td>\n",
       "      <td>49</td>\n",
       "      <td>65</td>\n",
       "      <td>65</td>\n",
       "      <td>45</td>\n",
       "      <td>1</td>\n",
       "      <td>False</td>\n",
       "    </tr>\n",
       "    <tr>\n",
       "      <th>1</th>\n",
       "      <td>2</td>\n",
       "      <td>妙蛙草</td>\n",
       "      <td>Grass</td>\n",
       "      <td>Poison</td>\n",
       "      <td>60</td>\n",
       "      <td>62</td>\n",
       "      <td>63</td>\n",
       "      <td>80</td>\n",
       "      <td>80</td>\n",
       "      <td>60</td>\n",
       "      <td>1</td>\n",
       "      <td>False</td>\n",
       "    </tr>\n",
       "    <tr>\n",
       "      <th>2</th>\n",
       "      <td>3</td>\n",
       "      <td>妙蛙花</td>\n",
       "      <td>Grass</td>\n",
       "      <td>Poison</td>\n",
       "      <td>80</td>\n",
       "      <td>82</td>\n",
       "      <td>83</td>\n",
       "      <td>100</td>\n",
       "      <td>100</td>\n",
       "      <td>80</td>\n",
       "      <td>1</td>\n",
       "      <td>False</td>\n",
       "    </tr>\n",
       "    <tr>\n",
       "      <th>3</th>\n",
       "      <td>3</td>\n",
       "      <td>妙蛙花Mega</td>\n",
       "      <td>Grass</td>\n",
       "      <td>Poison</td>\n",
       "      <td>80</td>\n",
       "      <td>100</td>\n",
       "      <td>123</td>\n",
       "      <td>122</td>\n",
       "      <td>120</td>\n",
       "      <td>80</td>\n",
       "      <td>1</td>\n",
       "      <td>False</td>\n",
       "    </tr>\n",
       "    <tr>\n",
       "      <th>4</th>\n",
       "      <td>4</td>\n",
       "      <td>小火龍</td>\n",
       "      <td>Fire</td>\n",
       "      <td>NaN</td>\n",
       "      <td>39</td>\n",
       "      <td>52</td>\n",
       "      <td>43</td>\n",
       "      <td>60</td>\n",
       "      <td>50</td>\n",
       "      <td>65</td>\n",
       "      <td>1</td>\n",
       "      <td>False</td>\n",
       "    </tr>\n",
       "  </tbody>\n",
       "</table>\n",
       "</div>"
      ],
      "text/plain": [
       "   Number     Name  Type1   Type2  HP  Attack  Defense  SpecialAtk  \\\n",
       "0       1     妙蛙種子  Grass  Poison  45      49       49          65   \n",
       "1       2      妙蛙草  Grass  Poison  60      62       63          80   \n",
       "2       3      妙蛙花  Grass  Poison  80      82       83         100   \n",
       "3       3  妙蛙花Mega  Grass  Poison  80     100      123         122   \n",
       "4       4      小火龍   Fire     NaN  39      52       43          60   \n",
       "\n",
       "   SpecialDef  Speed  Generation  Legendary  \n",
       "0          65     45           1      False  \n",
       "1          80     60           1      False  \n",
       "2         100     80           1      False  \n",
       "3         120     80           1      False  \n",
       "4          50     65           1      False  "
      ]
     },
     "execution_count": 15,
     "metadata": {},
     "output_type": "execute_result"
    }
   ],
   "source": [
    "import numpy as np\n",
    "import pandas as pd\n",
    "import matplotlib.pyplot as plt\n",
    "\n",
    "df = pd.read_csv(\"Pokemon_index.csv\", header=0)\n",
    "df.head()"
   ]
  },
  {
   "cell_type": "code",
   "execution_count": 8,
   "id": "e9f8bfac",
   "metadata": {},
   "outputs": [
    {
     "name": "stdout",
     "output_type": "stream",
     "text": [
      "<class 'pandas.core.frame.DataFrame'>\n",
      "RangeIndex: 894 entries, 0 to 893\n",
      "Data columns (total 12 columns):\n",
      " #   Column      Non-Null Count  Dtype \n",
      "---  ------      --------------  ----- \n",
      " 0   Number      894 non-null    int64 \n",
      " 1   Name        894 non-null    object\n",
      " 2   Type1       894 non-null    object\n",
      " 3   Type2       473 non-null    object\n",
      " 4   HP          894 non-null    int64 \n",
      " 5   Attack      894 non-null    int64 \n",
      " 6   Defense     894 non-null    int64 \n",
      " 7   SpecialAtk  894 non-null    int64 \n",
      " 8   SpecialDef  894 non-null    int64 \n",
      " 9   Speed       894 non-null    int64 \n",
      " 10  Generation  894 non-null    int64 \n",
      " 11  Legendary   894 non-null    bool  \n",
      "dtypes: bool(1), int64(8), object(3)\n",
      "memory usage: 77.8+ KB\n"
     ]
    }
   ],
   "source": [
    "df.info() #可看出Type2特徵有遺漏值"
   ]
  },
  {
   "cell_type": "code",
   "execution_count": 9,
   "id": "35f665b5",
   "metadata": {},
   "outputs": [
    {
     "data": {
      "text/html": [
       "<div>\n",
       "<style scoped>\n",
       "    .dataframe tbody tr th:only-of-type {\n",
       "        vertical-align: middle;\n",
       "    }\n",
       "\n",
       "    .dataframe tbody tr th {\n",
       "        vertical-align: top;\n",
       "    }\n",
       "\n",
       "    .dataframe thead th {\n",
       "        text-align: right;\n",
       "    }\n",
       "</style>\n",
       "<table border=\"1\" class=\"dataframe\">\n",
       "  <thead>\n",
       "    <tr style=\"text-align: right;\">\n",
       "      <th></th>\n",
       "      <th>HP</th>\n",
       "      <th>Attack</th>\n",
       "      <th>Defense</th>\n",
       "      <th>SpecialAtk</th>\n",
       "      <th>SpecialDef</th>\n",
       "    </tr>\n",
       "  </thead>\n",
       "  <tbody>\n",
       "    <tr>\n",
       "      <th>count</th>\n",
       "      <td>894.000000</td>\n",
       "      <td>894.000000</td>\n",
       "      <td>894.000000</td>\n",
       "      <td>894.000000</td>\n",
       "      <td>894.000000</td>\n",
       "    </tr>\n",
       "    <tr>\n",
       "      <th>mean</th>\n",
       "      <td>69.469799</td>\n",
       "      <td>79.848993</td>\n",
       "      <td>74.420582</td>\n",
       "      <td>73.428412</td>\n",
       "      <td>72.401566</td>\n",
       "    </tr>\n",
       "    <tr>\n",
       "      <th>std</th>\n",
       "      <td>25.670988</td>\n",
       "      <td>32.691003</td>\n",
       "      <td>31.323902</td>\n",
       "      <td>33.110134</td>\n",
       "      <td>27.963359</td>\n",
       "    </tr>\n",
       "    <tr>\n",
       "      <th>min</th>\n",
       "      <td>1.000000</td>\n",
       "      <td>5.000000</td>\n",
       "      <td>5.000000</td>\n",
       "      <td>10.000000</td>\n",
       "      <td>20.000000</td>\n",
       "    </tr>\n",
       "    <tr>\n",
       "      <th>25%</th>\n",
       "      <td>50.000000</td>\n",
       "      <td>55.000000</td>\n",
       "      <td>50.000000</td>\n",
       "      <td>50.000000</td>\n",
       "      <td>50.000000</td>\n",
       "    </tr>\n",
       "    <tr>\n",
       "      <th>50%</th>\n",
       "      <td>66.000000</td>\n",
       "      <td>75.000000</td>\n",
       "      <td>70.000000</td>\n",
       "      <td>65.000000</td>\n",
       "      <td>70.000000</td>\n",
       "    </tr>\n",
       "    <tr>\n",
       "      <th>75%</th>\n",
       "      <td>80.000000</td>\n",
       "      <td>100.000000</td>\n",
       "      <td>90.000000</td>\n",
       "      <td>95.000000</td>\n",
       "      <td>90.000000</td>\n",
       "    </tr>\n",
       "    <tr>\n",
       "      <th>max</th>\n",
       "      <td>255.000000</td>\n",
       "      <td>190.000000</td>\n",
       "      <td>230.000000</td>\n",
       "      <td>194.000000</td>\n",
       "      <td>230.000000</td>\n",
       "    </tr>\n",
       "  </tbody>\n",
       "</table>\n",
       "</div>"
      ],
      "text/plain": [
       "               HP      Attack     Defense  SpecialAtk  SpecialDef\n",
       "count  894.000000  894.000000  894.000000  894.000000  894.000000\n",
       "mean    69.469799   79.848993   74.420582   73.428412   72.401566\n",
       "std     25.670988   32.691003   31.323902   33.110134   27.963359\n",
       "min      1.000000    5.000000    5.000000   10.000000   20.000000\n",
       "25%     50.000000   55.000000   50.000000   50.000000   50.000000\n",
       "50%     66.000000   75.000000   70.000000   65.000000   70.000000\n",
       "75%     80.000000  100.000000   90.000000   95.000000   90.000000\n",
       "max    255.000000  190.000000  230.000000  194.000000  230.000000"
      ]
     },
     "execution_count": 9,
     "metadata": {},
     "output_type": "execute_result"
    }
   ],
   "source": [
    "df.loc[:, 'HP':'SpecialDef'].describe()"
   ]
  },
  {
   "cell_type": "code",
   "execution_count": 10,
   "id": "d271be97",
   "metadata": {},
   "outputs": [
    {
     "name": "stdout",
     "output_type": "stream",
     "text": [
      "HP平均值 69.46979865771812\n"
     ]
    }
   ],
   "source": [
    "# 計算平均值\n",
    "print('HP平均值', df['HP'].mean())"
   ]
  },
  {
   "cell_type": "code",
   "execution_count": 12,
   "id": "3bc1fc4f",
   "metadata": {},
   "outputs": [
    {
     "name": "stdout",
     "output_type": "stream",
     "text": [
      "HP平均值 66.0\n"
     ]
    }
   ],
   "source": [
    "# 計算中位數\n",
    "print('HP平均值', df['HP'].median())"
   ]
  },
  {
   "cell_type": "code",
   "execution_count": 13,
   "id": "5943133e",
   "metadata": {},
   "outputs": [
    {
     "name": "stdout",
     "output_type": "stream",
     "text": [
      "HP眾數 0    60\n",
      "dtype: int64\n"
     ]
    }
   ],
   "source": [
    "# 計算眾數\n",
    "print('HP眾數', df['HP'].mode())"
   ]
  },
  {
   "cell_type": "markdown",
   "id": "6f5ac79f",
   "metadata": {},
   "source": [
    "上述例子中，HP的眾數是60。最前面顯示的0是索引值，當有多個眾數時會逐一顯示，索引值則會以流水號遞增。"
   ]
  },
  {
   "cell_type": "code",
   "execution_count": 14,
   "id": "dff8f55c",
   "metadata": {},
   "outputs": [
    {
     "name": "stdout",
     "output_type": "stream",
     "text": [
      "HP最大值 255\n",
      "HP最小值 1\n",
      "HP最全距 254\n"
     ]
    }
   ],
   "source": [
    "# 計算最大值，最小值與全距(range)\n",
    "print('HP最大值', df['HP'].max())\n",
    "print('HP最小值', df['HP'].min())\n",
    "print('HP最全距', df['HP'].max() - df['HP'].min())\n"
   ]
  },
  {
   "cell_type": "code",
   "execution_count": null,
   "id": "043fd472",
   "metadata": {},
   "outputs": [],
   "source": []
  }
 ],
 "metadata": {
  "kernelspec": {
   "display_name": "Python 3 (ipykernel)",
   "language": "python",
   "name": "python3"
  },
  "language_info": {
   "codemirror_mode": {
    "name": "ipython",
    "version": 3
   },
   "file_extension": ".py",
   "mimetype": "text/x-python",
   "name": "python",
   "nbconvert_exporter": "python",
   "pygments_lexer": "ipython3",
   "version": "3.9.7"
  }
 },
 "nbformat": 4,
 "nbformat_minor": 5
}
