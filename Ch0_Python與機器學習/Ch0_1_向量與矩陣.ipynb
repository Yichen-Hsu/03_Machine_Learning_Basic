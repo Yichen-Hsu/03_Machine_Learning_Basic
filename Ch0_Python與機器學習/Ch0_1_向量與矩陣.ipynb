{
 "cells": [
  {
   "cell_type": "code",
   "execution_count": 1,
   "id": "85aba212",
   "metadata": {},
   "outputs": [
    {
     "name": "stdout",
     "output_type": "stream",
     "text": [
      "[5, 7, 9]\n",
      "32\n"
     ]
    }
   ],
   "source": [
    "# 向量用串列來實作\n",
    "\n",
    "a = [1, 2, 3]\n",
    "b = [4, 5, 6]\n",
    "\n",
    "def addition_of_vectors(a, b):\n",
    "    return [a_i+b_i for a_i, b_i in zip(a, b)]\n",
    "\n",
    "def Vector_dot_product(a, b):\n",
    "    return sum(a_i*b_i for a_i, b_i in zip(a,b))\n",
    "\n",
    "print(addition_of_vectors(a, b))\n",
    "print(Vector_dot_product(a, b))"
   ]
  },
  {
   "cell_type": "code",
   "execution_count": 2,
   "id": "126e5815",
   "metadata": {},
   "outputs": [
    {
     "name": "stdout",
     "output_type": "stream",
     "text": [
      "向量相加:  [5 7 9]\n",
      "純量、向量相乘:  [3 6 9]\n",
      "向量相乘:  [ 4 10 18]\n",
      "向量內積:  32\n",
      "向量長度:  3.7416573867739413\n"
     ]
    }
   ],
   "source": [
    "# 使用numpy的陣列來實作\n",
    "\n",
    "import numpy as np\n",
    "\n",
    "a = np.array([1, 2, 3])\n",
    "b = np.array([4, 5, 6])\n",
    "\n",
    "print('向量相加: ', a + b)\n",
    "print('純量、向量相乘: ', 3 * a)\n",
    "print('向量相乘: ', a * b)\n",
    "print('向量內積: ', np.dot(a ,b))\n",
    "print('向量長度: ', np.linalg.norm(a))"
   ]
  },
  {
   "cell_type": "code",
   "execution_count": null,
   "id": "c615e9b9",
   "metadata": {},
   "outputs": [],
   "source": []
  }
 ],
 "metadata": {
  "kernelspec": {
   "display_name": "Python 3 (ipykernel)",
   "language": "python",
   "name": "python3"
  },
  "language_info": {
   "codemirror_mode": {
    "name": "ipython",
    "version": 3
   },
   "file_extension": ".py",
   "mimetype": "text/x-python",
   "name": "python",
   "nbconvert_exporter": "python",
   "pygments_lexer": "ipython3",
   "version": "3.9.7"
  }
 },
 "nbformat": 4,
 "nbformat_minor": 5
}
